{
 "cells": [
  {
   "cell_type": "markdown",
   "metadata": {},
   "source": [
    "# Exercise-2\n",
    "Add the specified code for each code cell, running the cells _in order_."
   ]
  },
  {
   "cell_type": "markdown",
   "metadata": {},
   "source": [
    "Open the included **`data/words_small.txt`** file (containing a \"small\" list of English words) and `read()` it into a single string variable **`words_str`**. Then print the first 100 _characters_ of the `words_str` variable (use a slice operator!)"
   ]
  },
  {
   "cell_type": "code",
   "execution_count": 5,
   "metadata": {
    "collapsed": false
   },
   "outputs": [
    {
     "data": {
      "text/plain": [
       "'abbreviate\\nabbreviation\\nabdomen\\nable\\naboard\\nabroad\\nabsent\\nabsolute\\nabuse\\nacademic\\nacademy\\naccelerate'"
      ]
     },
     "execution_count": 5,
     "metadata": {},
     "output_type": "execute_result"
    }
   ],
   "source": [
    "file = open('data/words_small.txt','r')\n",
    "words_str = file.read()\n",
    "words_str[:100]"
   ]
  },
  {
   "cell_type": "markdown",
   "metadata": {},
   "source": [
    "**Using a loop**, count the number of times the newline character `\\n` appears in the `words_str`. This should tell you the number of words in the file (plus or minus one). You can check your work with the built-in `count()` string method (but use the loop for practice!)"
   ]
  },
  {
   "cell_type": "code",
   "execution_count": 8,
   "metadata": {
    "collapsed": false
   },
   "outputs": [
    {
     "name": "stdout",
     "output_type": "stream",
     "text": [
      "1520\n"
     ]
    }
   ],
   "source": [
    "line_n = 0\n",
    "for word in words_str:\n",
    "    if word == '\\n':\n",
    "        line_n = line_n+1\n",
    "print(line_n)"
   ]
  },
  {
   "cell_type": "markdown",
   "metadata": {},
   "source": [
    "Create a variable **`letter_counts`** that is a dictionary whose keys are characters (letters) and whosevalues are the number of times that character appears in `words_str`. Print the dictionary after you make it.\n",
    "- To do this, start with an empty dictionary, then loop through the letters one at a time. At each letter, increase the value associated with that letter key by one.\n",
    "- Watch out for if the letter is not in the dictionary yet!\n",
    "- Also _delete_ the entry for the newline `\\n` character"
   ]
  },
  {
   "cell_type": "code",
   "execution_count": 11,
   "metadata": {
    "collapsed": false
   },
   "outputs": [
    {
     "data": {
      "text/plain": [
       "{'a': 703,\n",
       " 'b': 188,\n",
       " 'c': 328,\n",
       " 'd': 314,\n",
       " 'e': 1118,\n",
       " 'f': 155,\n",
       " 'g': 213,\n",
       " 'h': 295,\n",
       " 'i': 515,\n",
       " 'j': 16,\n",
       " 'k': 126,\n",
       " 'l': 457,\n",
       " 'm': 223,\n",
       " 'n': 550,\n",
       " 'o': 598,\n",
       " 'p': 224,\n",
       " 'q': 9,\n",
       " 'r': 642,\n",
       " 's': 504,\n",
       " 't': 604,\n",
       " 'u': 279,\n",
       " 'v': 85,\n",
       " 'w': 161,\n",
       " 'x': 23,\n",
       " 'y': 189,\n",
       " 'z': 15}"
      ]
     },
     "execution_count": 11,
     "metadata": {},
     "output_type": "execute_result"
    }
   ],
   "source": [
    "letter_counts = {}\n",
    "for letter in words_str:\n",
    "    letter_counts[letter] = words_str.count(letter)\n",
    "letter_counts.pop('\\n')\n",
    "letter_counts"
   ]
  },
  {
   "cell_type": "markdown",
   "metadata": {},
   "source": [
    "Print out all the count in the `letter_counts` dictionary in the format `\"A appears 703 times\"`, each on a new line, in alphabetical order. _Hint_: iterate through the sorted keys!"
   ]
  },
  {
   "cell_type": "code",
   "execution_count": 15,
   "metadata": {
    "collapsed": false
   },
   "outputs": [
    {
     "name": "stdout",
     "output_type": "stream",
     "text": [
      "A appears 703 times\n",
      "B appears 188 times\n",
      "C appears 328 times\n",
      "D appears 314 times\n",
      "E appears 1118 times\n",
      "F appears 155 times\n",
      "G appears 213 times\n",
      "H appears 295 times\n",
      "I appears 515 times\n",
      "J appears 16 times\n",
      "K appears 126 times\n",
      "L appears 457 times\n",
      "M appears 223 times\n",
      "N appears 550 times\n",
      "O appears 598 times\n",
      "P appears 224 times\n",
      "Q appears 9 times\n",
      "R appears 642 times\n",
      "S appears 504 times\n",
      "T appears 604 times\n",
      "U appears 279 times\n",
      "V appears 85 times\n",
      "W appears 161 times\n",
      "X appears 23 times\n",
      "Y appears 189 times\n",
      "Z appears 15 times\n"
     ]
    }
   ],
   "source": [
    "for letter,count in sorted(letter_counts.items()):\n",
    "    print(letter.upper(), 'appears', count , 'times')"
   ]
  },
  {
   "cell_type": "markdown",
   "metadata": {},
   "source": [
    "Print which letter from the `letter_counts` dictionary has a **value** of `598`. _Hint:_ use a loop to look through all the _items_ until you find the right one, then print that!"
   ]
  },
  {
   "cell_type": "code",
   "execution_count": 20,
   "metadata": {
    "collapsed": false
   },
   "outputs": [
    {
     "name": "stdout",
     "output_type": "stream",
     "text": [
      "O\n"
     ]
    }
   ],
   "source": [
    "for key in letter_counts.keys():\n",
    "    if letter_counts[key] == 598:\n",
    "        print(key.upper())\n"
   ]
  },
  {
   "cell_type": "markdown",
   "metadata": {},
   "source": [
    "Create a variable **`count_to_letter_dict`** that is a dictionary whose **keys** are the counts and whose **values** are the letters that have that count. This is a _reverse lookup_ dictionary. Hint: loop through items in `letter_counts` and add an item to your new dictionary for each element. You can assume no duplicated counts."
   ]
  },
  {
   "cell_type": "code",
   "execution_count": 21,
   "metadata": {
    "collapsed": false
   },
   "outputs": [
    {
     "data": {
      "text/plain": [
       "{9: 'q',\n",
       " 15: 'z',\n",
       " 16: 'j',\n",
       " 23: 'x',\n",
       " 85: 'v',\n",
       " 126: 'k',\n",
       " 155: 'f',\n",
       " 161: 'w',\n",
       " 188: 'b',\n",
       " 189: 'y',\n",
       " 213: 'g',\n",
       " 223: 'm',\n",
       " 224: 'p',\n",
       " 279: 'u',\n",
       " 295: 'h',\n",
       " 314: 'd',\n",
       " 328: 'c',\n",
       " 457: 'l',\n",
       " 504: 's',\n",
       " 515: 'i',\n",
       " 550: 'n',\n",
       " 598: 'o',\n",
       " 604: 't',\n",
       " 642: 'r',\n",
       " 703: 'a',\n",
       " 1118: 'e'}"
      ]
     },
     "execution_count": 21,
     "metadata": {},
     "output_type": "execute_result"
    }
   ],
   "source": [
    "count_to_letter_dict = {}\n",
    "for letter,counts in letter_counts.items():\n",
    "    count_to_letter_dict[counts] = letter\n",
    "count_to_letter_dict"
   ]
  },
  {
   "cell_type": "markdown",
   "metadata": {},
   "source": [
    "Print the **10** most common letters and their counts with the format `\"A appears 703 times\"`. _Hint:_ you'll need to sort the keys to `count_to_letter_dict` and take the first 10 of those."
   ]
  },
  {
   "cell_type": "code",
   "execution_count": 27,
   "metadata": {
    "collapsed": false
   },
   "outputs": [
    {
     "name": "stdout",
     "output_type": "stream",
     "text": [
      "e appears 1118 times\n",
      "a appears 703 times\n",
      "r appears 642 times\n",
      "t appears 604 times\n",
      "o appears 598 times\n",
      "n appears 550 times\n",
      "i appears 515 times\n",
      "s appears 504 times\n",
      "l appears 457 times\n",
      "c appears 328 times\n"
     ]
    }
   ],
   "source": [
    "sorted_ctld = sorted(count_to_letter_dict.keys(), reverse = True)\n",
    "for key in sorted_ctld[:10]:\n",
    "    print(count_to_letter_dict[key], 'appears', key,'times')"
   ]
  },
  {
   "cell_type": "markdown",
   "metadata": {},
   "source": [
    "Bonus: repeat your analysis on the `data/words_huge.txt` file! Are the top letters the same?"
   ]
  }
 ],
 "metadata": {
  "kernelspec": {
   "display_name": "Python 3",
   "language": "python",
   "name": "python3"
  },
  "language_info": {
   "codemirror_mode": {
    "name": "ipython",
    "version": 3
   },
   "file_extension": ".py",
   "mimetype": "text/x-python",
   "name": "python",
   "nbconvert_exporter": "python",
   "pygments_lexer": "ipython3",
   "version": "3.6.0"
  },
  "toc": {
   "colors": {
    "hover_highlight": "#DAA520",
    "running_highlight": "#FF0000",
    "selected_highlight": "#FFD700"
   },
   "moveMenuLeft": true,
   "nav_menu": {
    "height": "30px",
    "width": "252px"
   },
   "navigate_menu": true,
   "number_sections": true,
   "sideBar": true,
   "threshold": 4,
   "toc_cell": false,
   "toc_section_display": "block",
   "toc_window_display": false,
   "widenNotebook": false
  }
 },
 "nbformat": 4,
 "nbformat_minor": 2
}
