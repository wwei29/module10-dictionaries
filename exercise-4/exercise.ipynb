{
 "cells": [
  {
   "cell_type": "markdown",
   "metadata": {},
   "source": [
    "# Exercise-3\n",
    "Add the specified code for each code cell, running the cells _in order_. <small>This exercise was adapted from [Erle Robotics S.L.](https://www.gitbook.com/@erlerobotics)</small>"
   ]
  },
  {
   "cell_type": "markdown",
   "metadata": {},
   "source": [
    "Create a _list_ **`students`** that contains dictionaries, each representing a student. A student has a `name`, as well as _lists_ of scores for each of `homework`, `quizzes`, and `tests`. Your dictionary should contain the following dictionaries for the following students:\n",
    "- Lloyd, who earned the following scores:\n",
    "    - Homework: 90, 97, 75, 92\n",
    "    - Quizzes: 88, 40, 94\n",
    "    - Exams: 75, 90\n",
    "- Alice, who earned the following scores:\n",
    "    - Homework: 100, 92, 98, 100\n",
    "    - Quizzes: 82, 83, 91\n",
    "    - Exams: 89, 97\n",
    "- Tyler, who earned the following scores:\n",
    "    - Homework: 0, 87, 75, 22\n",
    "    - Quizzes: 0, 75, 78\n",
    "    - Exams: 100, 100\n",
    "\n",
    "Print out the list after you create it."
   ]
  },
  {
   "cell_type": "code",
   "execution_count": 27,
   "metadata": {
    "collapsed": false
   },
   "outputs": [
    {
     "name": "stdout",
     "output_type": "stream",
     "text": [
      "[{'Name': 'Lloyd', 'Homework': [90, 97, 75, 92], 'Quizzes': [88, 40, 94], 'Exams': [75, 90]}, {'Name': 'Alice', 'Homework': [100, 92, 98, 100], 'Quizzes': [82, 83, 91], 'Exams': [89, 97]}, {'Name': 'Tyler', 'Homework': [0, 87, 75, 22], 'Quizzes': [0, 75, 78], 'Exams': [100, 100]}]\n"
     ]
    }
   ],
   "source": [
    "students = [{'Name':'Lloyd', 'Homework':[90,97,75,92],'Quizzes':[88,40,94],'Exams':[75,90]},{'Name':'Alice','Homework': [100,92,98,100],'Quizzes':[82,83,91],'Exams':[89,97]}, {'Name':'Tyler','Homework':[0,87,75,22],'Quizzes':[0,75,78],'Exams':[100,100]}]\n",
    "print(student)\n"
   ]
  },
  {
   "cell_type": "markdown",
   "metadata": {},
   "source": [
    "Define a function **`weighted_average()`** that takes in a dictionary representing a student (as above), as well as 3 values between 0 and 1 representing the amount of weight that each of homework (default 40%), quizzes (default 40%), and tests (default 20%) receive in determing the final grade. The function should then calculate and return the overall score (between 0 and 100) based on these weights.\n",
    "- Hint: use the `sum()` function to easily sum up the scores for each category."
   ]
  },
  {
   "cell_type": "code",
   "execution_count": 28,
   "metadata": {
    "collapsed": false
   },
   "outputs": [],
   "source": [
    "def weighted_average(student, homework = 0.4, quizzes = 0.4, exams =0.2):\n",
    "    overall = sum(student['Homework'])/ len(student['Homework']) * homework + sum(student['Quizzes'])/ len(student['Quizzes']) * quizzes + sum(student['Exams'])/ len(student['Exams']) * exams\n",
    "    return(overall)\n",
    "weighted_average(students[])"
   ]
  },
  {
   "cell_type": "markdown",
   "metadata": {},
   "source": [
    "Create a variable **`anonymous_scores`** that is a list of the average scores of all the students in the class. Homework gets 10% weight, quizzes get 30% weight, and exams get 60% weight (it's not a well-designed course). Output the variable once done."
   ]
  },
  {
   "cell_type": "code",
   "execution_count": 38,
   "metadata": {
    "collapsed": false
   },
   "outputs": [
    {
     "data": {
      "text/plain": [
       "[80.55, 91.14999999999999, 79.9]"
      ]
     },
     "execution_count": 38,
     "metadata": {},
     "output_type": "execute_result"
    }
   ],
   "source": [
    "anonymous_scores = [] \n",
    "for i in range(len(students)):\n",
    "    anonymous_scores.append(weighted_average(students[i], 0.1, 0.3, 0.6))\n",
    "anonymous_scores"
   ]
  },
  {
   "cell_type": "markdown",
   "metadata": {},
   "source": [
    "Define a function **`get_letter_grade()`** that takes in a score and returns a \"letter grade\" associated with that score based on the following criteria:\n",
    "- 90-100 is an A\n",
    "- 80-90 is a B\n",
    "- 70-80 is a C\n",
    "- 60-70 is a D\n",
    "- 0-60 is an F"
   ]
  },
  {
   "cell_type": "code",
   "execution_count": 39,
   "metadata": {
    "collapsed": false
   },
   "outputs": [],
   "source": [
    "def get_letter_grade(score):\n",
    "    if score < 60:\n",
    "        return('F')\n",
    "    elif score < 70:\n",
    "        return('D')\n",
    "    elif score < 80:\n",
    "        return('C')\n",
    "    elif score < 90:\n",
    "        return('B')\n",
    "    else:\n",
    "        return('A')\n",
    "    "
   ]
  },
  {
   "cell_type": "markdown",
   "metadata": {},
   "source": [
    "Assign a new key `grade` to each student in the `students` list that is the final letter grade for their work (using the same weights as you used for the anonymous scores)."
   ]
  },
  {
   "cell_type": "code",
   "execution_count": 42,
   "metadata": {
    "collapsed": false
   },
   "outputs": [
    {
     "data": {
      "text/plain": [
       "[{'Exams': [75, 90],\n",
       "  'Homework': [90, 97, 75, 92],\n",
       "  'Name': 'Lloyd',\n",
       "  'Quizzes': [88, 40, 94],\n",
       "  'grade': 'B'},\n",
       " {'Exams': [89, 97],\n",
       "  'Homework': [100, 92, 98, 100],\n",
       "  'Name': 'Alice',\n",
       "  'Quizzes': [82, 83, 91],\n",
       "  'grade': 'A'},\n",
       " {'Exams': [100, 100],\n",
       "  'Homework': [0, 87, 75, 22],\n",
       "  'Name': 'Tyler',\n",
       "  'Quizzes': [0, 75, 78],\n",
       "  'grade': 'C'}]"
      ]
     },
     "execution_count": 42,
     "metadata": {},
     "output_type": "execute_result"
    }
   ],
   "source": [
    "for i in range(len(students)):\n",
    "    students[i]['grade'] = get_letter_grade(weighted_average(students[i], 0.1, 0.3, 0.6))\n",
    "students"
   ]
  },
  {
   "cell_type": "markdown",
   "metadata": {},
   "source": [
    "Print the class's average letter grade."
   ]
  },
  {
   "cell_type": "code",
   "execution_count": 46,
   "metadata": {
    "collapsed": false
   },
   "outputs": [
    {
     "data": {
      "text/plain": [
       "'B'"
      ]
     },
     "execution_count": 46,
     "metadata": {},
     "output_type": "execute_result"
    }
   ],
   "source": [
    "total = 0 \n",
    "for i in range(len(students)):\n",
    "    total = total + weighted_average(students[i], 0.1, 0.3, 0.6)\n",
    "get_letter_grade(total / len(students) )\n",
    "    \n",
    "    "
   ]
  }
 ],
 "metadata": {
  "kernelspec": {
   "display_name": "Python 3",
   "language": "python",
   "name": "python3"
  },
  "language_info": {
   "codemirror_mode": {
    "name": "ipython",
    "version": 3
   },
   "file_extension": ".py",
   "mimetype": "text/x-python",
   "name": "python",
   "nbconvert_exporter": "python",
   "pygments_lexer": "ipython3",
   "version": "3.6.0"
  },
  "toc": {
   "colors": {
    "hover_highlight": "#DAA520",
    "running_highlight": "#FF0000",
    "selected_highlight": "#FFD700"
   },
   "moveMenuLeft": true,
   "nav_menu": {
    "height": "30px",
    "width": "252px"
   },
   "navigate_menu": true,
   "number_sections": true,
   "sideBar": true,
   "threshold": 4,
   "toc_cell": false,
   "toc_section_display": "block",
   "toc_window_display": false,
   "widenNotebook": false
  }
 },
 "nbformat": 4,
 "nbformat_minor": 2
}
