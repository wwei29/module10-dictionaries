{
 "cells": [
  {
   "cell_type": "markdown",
   "metadata": {},
   "source": [
    "# Exercise-3\n",
    "Add the specified code for each code cell, running the cells _in order_."
   ]
  },
  {
   "cell_type": "markdown",
   "metadata": {},
   "source": [
    "Define a function **`create_game_dict()`** that takes in 4 arguments: the name of the home team in a sports game, the name of the visiting team, the home team's score, and the visiting team's score. The function should return a dictionary with keys for each of these values, for example:\n",
    "```\n",
    "{'home':'UW', 'opp': 'Rutgers', 'home_score': 48, 'opp_score': 13}\n",
    "```"
   ]
  },
  {
   "cell_type": "code",
   "execution_count": 2,
   "metadata": {
    "collapsed": false
   },
   "outputs": [],
   "source": [
    "def create_game_dict(name_home, name_visiting, score_home, score_visiting):\n",
    "    return {'home': name_home, 'opp':name_visiting, 'home_score':score_home, 'opp_score':score_visiting}"
   ]
  },
  {
   "cell_type": "markdown",
   "metadata": {},
   "source": [
    "Use your function to create dictionaries representing the following games (home team listed first):"
   ]
  },
  {
   "cell_type": "code",
   "execution_count": 3,
   "metadata": {
    "collapsed": true
   },
   "outputs": [],
   "source": [
    "game_1 = create_game_dict('UW','Rutgers',48,13)\n",
    "game_2 = create_game_dict(\"UW\",\"Idaho\",59,14)\n",
    "game_3 = create_game_dict(\"UW\", \"Portland State\",41,3)\n",
    "game_4 = create_game_dict(\"Arizona\",\"UW\",28,35)"
   ]
  },
  {
   "cell_type": "markdown",
   "metadata": {},
   "source": [
    "Create a variable **`season2016`** that is a _list_ containing the 4 game dictionaries. Output the list after you create it."
   ]
  },
  {
   "cell_type": "code",
   "execution_count": 4,
   "metadata": {
    "collapsed": false
   },
   "outputs": [],
   "source": [
    "season2016 = [game_1, game_2, game_3, game_4]"
   ]
  },
  {
   "cell_type": "markdown",
   "metadata": {},
   "source": [
    "Print the visiting opponent of the 3rd game played in this 2016 season."
   ]
  },
  {
   "cell_type": "code",
   "execution_count": 5,
   "metadata": {
    "collapsed": false
   },
   "outputs": [
    {
     "data": {
      "text/plain": [
       "'Portland State'"
      ]
     },
     "execution_count": 5,
     "metadata": {},
     "output_type": "execute_result"
    }
   ],
   "source": [
    "season2016[2]['opp']"
   ]
  },
  {
   "cell_type": "markdown",
   "metadata": {},
   "source": [
    "Print out the list of games, each on their own line, in a format `\"HOME vs. OPPONENT\"`."
   ]
  },
  {
   "cell_type": "code",
   "execution_count": 6,
   "metadata": {
    "collapsed": false
   },
   "outputs": [
    {
     "name": "stdout",
     "output_type": "stream",
     "text": [
      "UW vs. Rutgers\n",
      "UW vs. Idaho\n",
      "UW vs. Portland State\n",
      "Arizona vs. UW\n"
     ]
    }
   ],
   "source": [
    "for i in range(len(season2016)):\n",
    "    print(season2016[i]['home'], 'vs.', season2016[i]['opp'])"
   ]
  },
  {
   "cell_type": "markdown",
   "metadata": {},
   "source": [
    "Create a variable **`home_won_count`** that is the number of games won by the home team in this piece of the 2016 season. Print out the variable."
   ]
  },
  {
   "cell_type": "code",
   "execution_count": 8,
   "metadata": {
    "collapsed": false
   },
   "outputs": [
    {
     "name": "stdout",
     "output_type": "stream",
     "text": [
      "3\n"
     ]
    }
   ],
   "source": [
    "home_won_count = 0\n",
    "for i in range(len(season2016)):\n",
    "    if season2016[i]['home_score'] > season2016[i]['opp_score']:\n",
    "        home_won_count = home_won_count + 1\n",
    "print(home_won_count)"
   ]
  },
  {
   "cell_type": "markdown",
   "metadata": {},
   "source": [
    "Create a variable **`home_point_spread`** which is the _average_ number of points that the home team won by (for games that they won). Print out the variable."
   ]
  },
  {
   "cell_type": "code",
   "execution_count": 9,
   "metadata": {
    "collapsed": false
   },
   "outputs": [
    {
     "name": "stdout",
     "output_type": "stream",
     "text": [
      "39.333333333333336\n"
     ]
    }
   ],
   "source": [
    "home_point_spread = 0\n",
    "for i in range(len(season2016)):\n",
    "    if season2016[i]['home_score'] > season2016[i]['opp_score']:\n",
    "        home_point_spread = home_point_spread + season2016[i]['home_score'] - season2016[i]['opp_score']\n",
    "print(home_point_spread / home_won_count)"
   ]
  },
  {
   "cell_type": "markdown",
   "metadata": {},
   "source": [
    "Bonus: read in the **`data/huskies_2016.csv`** file and create a new `season2016` variable from that data (each game is written on a new line&mdash;the first line is the header). Then rerun the above calculations for the entire season.\n",
    "\n",
    "You can use the [csv](https://docs.python.org/3/library/csv.html) module to easily read each line (row) of the file as a _list_ of values, passing the appropriate ones into your `create_game_dict()` function. You'll need to skip the \"header\" line, and remember to convert scores into integers."
   ]
  },
  {
   "cell_type": "code",
   "execution_count": null,
   "metadata": {
    "collapsed": false
   },
   "outputs": [],
   "source": []
  }
 ],
 "metadata": {
  "kernelspec": {
   "display_name": "Python 3",
   "language": "python",
   "name": "python3"
  },
  "language_info": {
   "codemirror_mode": {
    "name": "ipython",
    "version": 3
   },
   "file_extension": ".py",
   "mimetype": "text/x-python",
   "name": "python",
   "nbconvert_exporter": "python",
   "pygments_lexer": "ipython3",
   "version": "3.6.0"
  },
  "toc": {
   "colors": {
    "hover_highlight": "#DAA520",
    "running_highlight": "#FF0000",
    "selected_highlight": "#FFD700"
   },
   "moveMenuLeft": true,
   "nav_menu": {
    "height": "30px",
    "width": "252px"
   },
   "navigate_menu": true,
   "number_sections": true,
   "sideBar": true,
   "threshold": 4,
   "toc_cell": false,
   "toc_section_display": "block",
   "toc_window_display": false,
   "widenNotebook": false
  }
 },
 "nbformat": 4,
 "nbformat_minor": 2
}
